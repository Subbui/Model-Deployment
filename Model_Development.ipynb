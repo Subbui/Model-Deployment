{
 "cells": [
  {
   "cell_type": "code",
   "execution_count": 1,
   "metadata": {},
   "outputs": [
    {
     "data": {
      "application/javascript": [
       "IPython.notebook.set_autosave_interval(120000)"
      ]
     },
     "metadata": {},
     "output_type": "display_data"
    },
    {
     "name": "stdout",
     "output_type": "stream",
     "text": [
      "Autosaving every 120 seconds\n"
     ]
    }
   ],
   "source": [
    "%autosave 120"
   ]
  },
  {
   "cell_type": "code",
   "execution_count": 2,
   "metadata": {},
   "outputs": [
    {
     "name": "stderr",
     "output_type": "stream",
     "text": [
      "C:\\Users\\5030994\\AppData\\Local\\conda\\conda\\envs\\py36\\lib\\site-packages\\tensorflow\\python\\framework\\dtypes.py:523: FutureWarning: Passing (type, 1) or '1type' as a synonym of type is deprecated; in a future version of numpy, it will be understood as (type, (1,)) / '(1,)type'.\n",
      "  _np_qint8 = np.dtype([(\"qint8\", np.int8, 1)])\n",
      "C:\\Users\\5030994\\AppData\\Local\\conda\\conda\\envs\\py36\\lib\\site-packages\\tensorflow\\python\\framework\\dtypes.py:524: FutureWarning: Passing (type, 1) or '1type' as a synonym of type is deprecated; in a future version of numpy, it will be understood as (type, (1,)) / '(1,)type'.\n",
      "  _np_quint8 = np.dtype([(\"quint8\", np.uint8, 1)])\n",
      "C:\\Users\\5030994\\AppData\\Local\\conda\\conda\\envs\\py36\\lib\\site-packages\\tensorflow\\python\\framework\\dtypes.py:525: FutureWarning: Passing (type, 1) or '1type' as a synonym of type is deprecated; in a future version of numpy, it will be understood as (type, (1,)) / '(1,)type'.\n",
      "  _np_qint16 = np.dtype([(\"qint16\", np.int16, 1)])\n",
      "C:\\Users\\5030994\\AppData\\Local\\conda\\conda\\envs\\py36\\lib\\site-packages\\tensorflow\\python\\framework\\dtypes.py:526: FutureWarning: Passing (type, 1) or '1type' as a synonym of type is deprecated; in a future version of numpy, it will be understood as (type, (1,)) / '(1,)type'.\n",
      "  _np_quint16 = np.dtype([(\"quint16\", np.uint16, 1)])\n",
      "C:\\Users\\5030994\\AppData\\Local\\conda\\conda\\envs\\py36\\lib\\site-packages\\tensorflow\\python\\framework\\dtypes.py:527: FutureWarning: Passing (type, 1) or '1type' as a synonym of type is deprecated; in a future version of numpy, it will be understood as (type, (1,)) / '(1,)type'.\n",
      "  _np_qint32 = np.dtype([(\"qint32\", np.int32, 1)])\n",
      "C:\\Users\\5030994\\AppData\\Local\\conda\\conda\\envs\\py36\\lib\\site-packages\\tensorflow\\python\\framework\\dtypes.py:532: FutureWarning: Passing (type, 1) or '1type' as a synonym of type is deprecated; in a future version of numpy, it will be understood as (type, (1,)) / '(1,)type'.\n",
      "  np_resource = np.dtype([(\"resource\", np.ubyte, 1)])\n",
      "C:\\Users\\5030994\\AppData\\Local\\conda\\conda\\envs\\py36\\lib\\site-packages\\tensorboard\\compat\\tensorflow_stub\\dtypes.py:541: FutureWarning: Passing (type, 1) or '1type' as a synonym of type is deprecated; in a future version of numpy, it will be understood as (type, (1,)) / '(1,)type'.\n",
      "  _np_qint8 = np.dtype([(\"qint8\", np.int8, 1)])\n",
      "C:\\Users\\5030994\\AppData\\Local\\conda\\conda\\envs\\py36\\lib\\site-packages\\tensorboard\\compat\\tensorflow_stub\\dtypes.py:542: FutureWarning: Passing (type, 1) or '1type' as a synonym of type is deprecated; in a future version of numpy, it will be understood as (type, (1,)) / '(1,)type'.\n",
      "  _np_quint8 = np.dtype([(\"quint8\", np.uint8, 1)])\n",
      "C:\\Users\\5030994\\AppData\\Local\\conda\\conda\\envs\\py36\\lib\\site-packages\\tensorboard\\compat\\tensorflow_stub\\dtypes.py:543: FutureWarning: Passing (type, 1) or '1type' as a synonym of type is deprecated; in a future version of numpy, it will be understood as (type, (1,)) / '(1,)type'.\n",
      "  _np_qint16 = np.dtype([(\"qint16\", np.int16, 1)])\n",
      "C:\\Users\\5030994\\AppData\\Local\\conda\\conda\\envs\\py36\\lib\\site-packages\\tensorboard\\compat\\tensorflow_stub\\dtypes.py:544: FutureWarning: Passing (type, 1) or '1type' as a synonym of type is deprecated; in a future version of numpy, it will be understood as (type, (1,)) / '(1,)type'.\n",
      "  _np_quint16 = np.dtype([(\"quint16\", np.uint16, 1)])\n",
      "C:\\Users\\5030994\\AppData\\Local\\conda\\conda\\envs\\py36\\lib\\site-packages\\tensorboard\\compat\\tensorflow_stub\\dtypes.py:545: FutureWarning: Passing (type, 1) or '1type' as a synonym of type is deprecated; in a future version of numpy, it will be understood as (type, (1,)) / '(1,)type'.\n",
      "  _np_qint32 = np.dtype([(\"qint32\", np.int32, 1)])\n",
      "C:\\Users\\5030994\\AppData\\Local\\conda\\conda\\envs\\py36\\lib\\site-packages\\tensorboard\\compat\\tensorflow_stub\\dtypes.py:550: FutureWarning: Passing (type, 1) or '1type' as a synonym of type is deprecated; in a future version of numpy, it will be understood as (type, (1,)) / '(1,)type'.\n",
      "  np_resource = np.dtype([(\"resource\", np.ubyte, 1)])\n"
     ]
    }
   ],
   "source": [
    "import tensorflow as tf\n",
    "import numpy as np\n",
    "import matplotlib.pyplot as plt"
   ]
  },
  {
   "cell_type": "code",
   "execution_count": 20,
   "metadata": {},
   "outputs": [
    {
     "data": {
      "text/plain": [
       "'2.0.0-alpha0'"
      ]
     },
     "execution_count": 20,
     "metadata": {},
     "output_type": "execute_result"
    }
   ],
   "source": [
    "from tensorflow.keras.datasets import fashion_mnist\n",
    "from scipy.misc import imsave\n",
    "tf.__version__"
   ]
  },
  {
   "cell_type": "code",
   "execution_count": 4,
   "metadata": {},
   "outputs": [],
   "source": [
    "(x_train,y_train),(x_test,y_test) = fashion_mnist.load_data()"
   ]
  },
  {
   "cell_type": "code",
   "execution_count": 5,
   "metadata": {},
   "outputs": [
    {
     "name": "stdout",
     "output_type": "stream",
     "text": [
      "(60000, 28, 28) (60000,) (10000, 28, 28) (10000,)\n"
     ]
    }
   ],
   "source": [
    "print(x_train.shape,y_train.shape,x_test.shape,y_test.shape)"
   ]
  },
  {
   "cell_type": "code",
   "execution_count": 6,
   "metadata": {},
   "outputs": [],
   "source": [
    "x_train = x_train/255.0\n",
    "x_test = x_test/255.0"
   ]
  },
  {
   "cell_type": "code",
   "execution_count": 7,
   "metadata": {},
   "outputs": [],
   "source": [
    "x_train = x_train.reshape(-1,28*28)\n",
    "x_test = x_test.reshape(-1,28*28)"
   ]
  },
  {
   "cell_type": "code",
   "execution_count": 8,
   "metadata": {},
   "outputs": [],
   "source": [
    "model = tf.keras.models.Sequential()"
   ]
  },
  {
   "cell_type": "code",
   "execution_count": 9,
   "metadata": {},
   "outputs": [],
   "source": [
    "model.add(tf.keras.layers.Dense(units=64,activation='relu',input_shape=(784,)))\n",
    "model.add(tf.keras.layers.Dropout(0.3))\n",
    "model.add(tf.keras.layers.Dense(units=128,activation='relu',input_shape=(784,)))\n",
    "model.add(tf.keras.layers.Dropout(0.3))\n",
    "model.add(tf.keras.layers.Dense(units=10,activation='softmax'))"
   ]
  },
  {
   "cell_type": "code",
   "execution_count": 10,
   "metadata": {},
   "outputs": [],
   "source": [
    "model.compile(optimizer='adam',loss='sparse_categorical_crossentropy',metrics=['sparse_categorical_accuracy'])"
   ]
  },
  {
   "cell_type": "code",
   "execution_count": 12,
   "metadata": {},
   "outputs": [
    {
     "name": "stdout",
     "output_type": "stream",
     "text": [
      "Epoch 1/50\n",
      "60000/60000 [==============================] - 7s 120us/sample - loss: 0.4783 - sparse_categorical_accuracy: 0.8260\n",
      "Epoch 2/50\n",
      "60000/60000 [==============================] - 7s 115us/sample - loss: 0.4459 - sparse_categorical_accuracy: 0.8381\n",
      "Epoch 3/50\n",
      "60000/60000 [==============================] - 7s 119us/sample - loss: 0.4243 - sparse_categorical_accuracy: 0.8457\n",
      "Epoch 4/50\n",
      "60000/60000 [==============================] - 7s 118us/sample - loss: 0.4074 - sparse_categorical_accuracy: 0.8522\n",
      "Epoch 5/50\n",
      "60000/60000 [==============================] - 7s 119us/sample - loss: 0.4000 - sparse_categorical_accuracy: 0.8534\n",
      "Epoch 6/50\n",
      "60000/60000 [==============================] - 7s 115us/sample - loss: 0.3892 - sparse_categorical_accuracy: 0.8571\n",
      "Epoch 7/50\n",
      "60000/60000 [==============================] - 7s 112us/sample - loss: 0.3824 - sparse_categorical_accuracy: 0.8600\n",
      "Epoch 8/50\n",
      "60000/60000 [==============================] - 7s 118us/sample - loss: 0.3784 - sparse_categorical_accuracy: 0.8613\n",
      "Epoch 9/50\n",
      "60000/60000 [==============================] - 7s 115us/sample - loss: 0.3707 - sparse_categorical_accuracy: 0.8649\n",
      "Epoch 10/50\n",
      "60000/60000 [==============================] - 7s 117us/sample - loss: 0.3673 - sparse_categorical_accuracy: 0.8637\n",
      "Epoch 11/50\n",
      "60000/60000 [==============================] - 7s 109us/sample - loss: 0.3633 - sparse_categorical_accuracy: 0.8647\n",
      "Epoch 12/50\n",
      "60000/60000 [==============================] - 6s 108us/sample - loss: 0.3611 - sparse_categorical_accuracy: 0.8673\n",
      "Epoch 13/50\n",
      "60000/60000 [==============================] - 7s 117us/sample - loss: 0.3573 - sparse_categorical_accuracy: 0.8685\n",
      "Epoch 14/50\n",
      "60000/60000 [==============================] - 10s 171us/sample - loss: 0.3541 - sparse_categorical_accuracy: 0.8691\n",
      "Epoch 15/50\n",
      "60000/60000 [==============================] - 8s 139us/sample - loss: 0.3535 - sparse_categorical_accuracy: 0.8702\n",
      "Epoch 16/50\n",
      "60000/60000 [==============================] - 10s 168us/sample - loss: 0.3480 - sparse_categorical_accuracy: 0.8710\n",
      "Epoch 17/50\n",
      "60000/60000 [==============================] - 9s 145us/sample - loss: 0.3443 - sparse_categorical_accuracy: 0.8707\n",
      "Epoch 18/50\n",
      "60000/60000 [==============================] - 9s 154us/sample - loss: 0.3433 - sparse_categorical_accuracy: 0.8732s - loss: 0.3432 - sparse_categorical_accuracy: 0.873\n",
      "Epoch 19/50\n",
      "60000/60000 [==============================] - 8s 133us/sample - loss: 0.3376 - sparse_categorical_accuracy: 0.8752\n",
      "Epoch 20/50\n",
      "60000/60000 [==============================] - 8s 134us/sample - loss: 0.3418 - sparse_categorical_accuracy: 0.8733\n",
      "Epoch 21/50\n",
      "60000/60000 [==============================] - 7s 120us/sample - loss: 0.3350 - sparse_categorical_accuracy: 0.8769\n",
      "Epoch 22/50\n",
      "60000/60000 [==============================] - 8s 136us/sample - loss: 0.3312 - sparse_categorical_accuracy: 0.8774s - loss: 0.3314 - sparse_cate - ETA: 2s - loss:\n",
      "Epoch 23/50\n",
      "60000/60000 [==============================] - 7s 114us/sample - loss: 0.3325 - sparse_categorical_accuracy: 0.8769\n",
      "Epoch 24/50\n",
      "60000/60000 [==============================] - 7s 119us/sample - loss: 0.3292 - sparse_categorical_accuracy: 0.8801\n",
      "Epoch 25/50\n",
      "60000/60000 [==============================] - 7s 119us/sample - loss: 0.3297 - sparse_categorical_accuracy: 0.8781\n",
      "Epoch 26/50\n",
      "60000/60000 [==============================] - 7s 118us/sample - loss: 0.3280 - sparse_categorical_accuracy: 0.8781\n",
      "Epoch 27/50\n",
      "60000/60000 [==============================] - 8s 129us/sample - loss: 0.3267 - sparse_categorical_accuracy: 0.8797\n",
      "Epoch 28/50\n",
      "60000/60000 [==============================] - 7s 117us/sample - loss: 0.3232 - sparse_categorical_accuracy: 0.8809\n",
      "Epoch 29/50\n",
      "60000/60000 [==============================] - 7s 114us/sample - loss: 0.3214 - sparse_categorical_accuracy: 0.8810\n",
      "Epoch 30/50\n",
      "60000/60000 [==============================] - 6s 108us/sample - loss: 0.3222 - sparse_categorical_accuracy: 0.8816\n",
      "Epoch 31/50\n",
      "60000/60000 [==============================] - 7s 116us/sample - loss: 0.3193 - sparse_categorical_accuracy: 0.8823\n",
      "Epoch 32/50\n",
      "60000/60000 [==============================] - 6s 105us/sample - loss: 0.3184 - sparse_categorical_accuracy: 0.8814\n",
      "Epoch 33/50\n",
      "60000/60000 [==============================] - 7s 109us/sample - loss: 0.3134 - sparse_categorical_accuracy: 0.8828\n",
      "Epoch 34/50\n",
      "60000/60000 [==============================] - 7s 110us/sample - loss: 0.3179 - sparse_categorical_accuracy: 0.8823\n",
      "Epoch 35/50\n",
      "60000/60000 [==============================] - 6s 105us/sample - loss: 0.3140 - sparse_categorical_accuracy: 0.8831\n",
      "Epoch 36/50\n",
      "60000/60000 [==============================] - 8s 126us/sample - loss: 0.3121 - sparse_categorical_accuracy: 0.8841\n",
      "Epoch 37/50\n",
      "60000/60000 [==============================] - 6s 103us/sample - loss: 0.3128 - sparse_categorical_accuracy: 0.8840\n",
      "Epoch 38/50\n",
      "60000/60000 [==============================] - 7s 112us/sample - loss: 0.3104 - sparse_categorical_accuracy: 0.8842\n",
      "Epoch 39/50\n",
      "60000/60000 [==============================] - 7s 112us/sample - loss: 0.3111 - sparse_categorical_accuracy: 0.8849\n",
      "Epoch 40/50\n",
      "60000/60000 [==============================] - 7s 115us/sample - loss: 0.3103 - sparse_categorical_accuracy: 0.8842\n",
      "Epoch 41/50\n",
      "60000/60000 [==============================] - 6s 105us/sample - loss: 0.3082 - sparse_categorical_accuracy: 0.8860\n",
      "Epoch 42/50\n",
      "60000/60000 [==============================] - 6s 106us/sample - loss: 0.3107 - sparse_categorical_accuracy: 0.8854\n",
      "Epoch 43/50\n",
      "60000/60000 [==============================] - 7s 110us/sample - loss: 0.3083 - sparse_categorical_accuracy: 0.8857\n",
      "Epoch 44/50\n",
      "60000/60000 [==============================] - 6s 104us/sample - loss: 0.3044 - sparse_categorical_accuracy: 0.8864\n",
      "Epoch 45/50\n",
      "60000/60000 [==============================] - 6s 102us/sample - loss: 0.3082 - sparse_categorical_accuracy: 0.8852\n",
      "Epoch 46/50\n",
      "60000/60000 [==============================] - 7s 112us/sample - loss: 0.3017 - sparse_categorical_accuracy: 0.8891\n",
      "Epoch 47/50\n",
      "60000/60000 [==============================] - 7s 115us/sample - loss: 0.3028 - sparse_categorical_accuracy: 0.8878\n",
      "Epoch 48/50\n",
      "60000/60000 [==============================] - 9s 151us/sample - loss: 0.3021 - sparse_categorical_accuracy: 0.8890\n",
      "Epoch 49/50\n",
      "60000/60000 [==============================] - 9s 144us/sample - loss: 0.2996 - sparse_categorical_accuracy: 0.8881s - loss: 0\n",
      "Epoch 50/50\n",
      "60000/60000 [==============================] - 8s 136us/sample - loss: 0.2975 - sparse_categorical_accuracy: 0.8902\n"
     ]
    },
    {
     "data": {
      "text/plain": [
       "<tensorflow.python.keras.callbacks.History at 0x2a8ab495c50>"
      ]
     },
     "execution_count": 12,
     "metadata": {},
     "output_type": "execute_result"
    }
   ],
   "source": [
    "model.fit(x_train,y_train,epochs=50)"
   ]
  },
  {
   "cell_type": "code",
   "execution_count": 14,
   "metadata": {},
   "outputs": [
    {
     "name": "stdout",
     "output_type": "stream",
     "text": [
      "10000/10000 [==============================] - 1s 76us/sample - loss: 0.3481 - sparse_categorical_accuracy: 0.8808\n"
     ]
    }
   ],
   "source": [
    "test_loss,test_accuracy = model.evaluate(x_test,y_test)"
   ]
  },
  {
   "cell_type": "code",
   "execution_count": 15,
   "metadata": {},
   "outputs": [
    {
     "name": "stdout",
     "output_type": "stream",
     "text": [
      "test accuracy:0.8808000087738037\n"
     ]
    }
   ],
   "source": [
    "print(f'test accuracy:{test_accuracy}')"
   ]
  },
  {
   "cell_type": "markdown",
   "metadata": {},
   "source": [
    "#### Save the model architecture and weights for future predictions"
   ]
  },
  {
   "cell_type": "code",
   "execution_count": 16,
   "metadata": {},
   "outputs": [],
   "source": [
    "mnist_arch = model.to_json()\n",
    "with open('mnist_ann.json','w') as f:\n",
    "    f.write(mnist_arch)"
   ]
  },
  {
   "cell_type": "code",
   "execution_count": 17,
   "metadata": {},
   "outputs": [],
   "source": [
    "model.save_weights('mnist_wts.h5')"
   ]
  }
 ],
 "metadata": {
  "kernelspec": {
   "display_name": "py36",
   "language": "python",
   "name": "py36"
  },
  "language_info": {
   "codemirror_mode": {
    "name": "ipython",
    "version": 3
   },
   "file_extension": ".py",
   "mimetype": "text/x-python",
   "name": "python",
   "nbconvert_exporter": "python",
   "pygments_lexer": "ipython3",
   "version": "3.6.8"
  }
 },
 "nbformat": 4,
 "nbformat_minor": 2
}
